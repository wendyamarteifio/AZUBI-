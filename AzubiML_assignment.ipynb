{
  "nbformat": 4,
  "nbformat_minor": 0,
  "metadata": {
    "colab": {
      "name": "AzubiML assignment.ipynb",
      "provenance": [],
      "collapsed_sections": [],
      "authorship_tag": "ABX9TyPN7+IygkXmsECNoKAcZnfb",
      "include_colab_link": true
    },
    "kernelspec": {
      "name": "python3",
      "display_name": "Python 3"
    }
  },
  "cells": [
    {
      "cell_type": "markdown",
      "metadata": {
        "id": "view-in-github",
        "colab_type": "text"
      },
      "source": [
        "<a href=\"https://colab.research.google.com/github/wendyamarteifio/AZUBI-/blob/master/AzubiML_assignment.ipynb\" target=\"_parent\"><img src=\"https://colab.research.google.com/assets/colab-badge.svg\" alt=\"Open In Colab\"/></a>"
      ]
    },
    {
      "cell_type": "code",
      "metadata": {
        "id": "qc0BYolEww69",
        "colab_type": "code",
        "colab": {}
      },
      "source": [
        " #Importing the pandas library as a variable names np\n",
        " import pandas as pd\n",
        "#Importing numpy library as a variable named np\n",
        " import numpy as np\n",
        " #Importing matplotlib.pyplot as a varaible named plt\n",
        " import matplotlib.pyplot as plt\n",
        "#Importing seaborn as a variable named sns \n",
        " import seaborn as sns\n",
        "#this is the magical function \n",
        " %matplotlib inline"
      ],
      "execution_count": 35,
      "outputs": []
    },
    {
      "cell_type": "code",
      "metadata": {
        "id": "R69UqRlYy78k",
        "colab_type": "code",
        "colab": {}
      },
      "source": [
        "#Importing sklearn.datasets package to practice on some toy datasets \n",
        "from sklearn.datasets import load_boston\n",
        "#Setting the variable boston to boston dataset\n",
        "boston=load_boston()"
      ],
      "execution_count": 36,
      "outputs": []
    },
    {
      "cell_type": "code",
      "metadata": {
        "id": "8xS4zhbHzLP_",
        "colab_type": "code",
        "colab": {}
      },
      "source": [
        "#Gives a detailed information on the boston data\n",
        "print(boston.DESCR)"
      ],
      "execution_count": null,
      "outputs": []
    },
    {
      "cell_type": "code",
      "metadata": {
        "id": "oSpHenT2zPsJ",
        "colab_type": "code",
        "colab": {}
      },
      "source": [
        "# Displays column names of dataset\n",
        "boston.feature_names"
      ],
      "execution_count": null,
      "outputs": []
    },
    {
      "cell_type": "code",
      "metadata": {
        "id": "5iIE0c71zaou",
        "colab_type": "code",
        "colab": {}
      },
      "source": [
        "#Contains the dataset within the boston variable\n",
        "boston"
      ],
      "execution_count": null,
      "outputs": []
    },
    {
      "cell_type": "code",
      "metadata": {
        "id": "nFnPe7cJzgZl",
        "colab_type": "code",
        "colab": {}
      },
      "source": [
        "#Creating a dataframe out of the boston dataset and column names \n",
        "df=pd.DataFrame(boston.data, columns=boston.feature_names)\n"
      ],
      "execution_count": 40,
      "outputs": []
    },
    {
      "cell_type": "code",
      "metadata": {
        "id": "vWAGRTNXzj1s",
        "colab_type": "code",
        "colab": {}
      },
      "source": [
        "# displays summary of data.\n",
        "df.head()"
      ],
      "execution_count": null,
      "outputs": []
    },
    {
      "cell_type": "code",
      "metadata": {
        "id": "OE0v__m80T3v",
        "colab_type": "code",
        "colab": {}
      },
      "source": [
        "#Calling house prices with .target and storing it in the dataframe\n",
        "df['MEDV']=boston.target"
      ],
      "execution_count": 42,
      "outputs": []
    },
    {
      "cell_type": "code",
      "metadata": {
        "id": "Kt_6i6eY0YI9",
        "colab_type": "code",
        "colab": {}
      },
      "source": [
        "#displaying the dataset\n",
        "df.head()"
      ],
      "execution_count": null,
      "outputs": []
    },
    {
      "cell_type": "code",
      "metadata": {
        "id": "oCMRlfVY0bbM",
        "colab_type": "code",
        "colab": {}
      },
      "source": [
        "#Gives a concise summary of dataframe \n",
        "df.info()"
      ],
      "execution_count": null,
      "outputs": []
    },
    {
      "cell_type": "code",
      "metadata": {
        "id": "_x4Q_Txd0hp_",
        "colab_type": "code",
        "colab": {}
      },
      "source": [
        "#Computes the summary statistics for the dataframe columns\n",
        "df.describe()"
      ],
      "execution_count": null,
      "outputs": []
    },
    {
      "cell_type": "code",
      "metadata": {
        "id": "ICmBDvF20k0Q",
        "colab_type": "code",
        "colab": {}
      },
      "source": [
        "#Plots a pairwise relationship in the dataset \n",
        "sns.pairplot(df)"
      ],
      "execution_count": null,
      "outputs": []
    },
    {
      "cell_type": "code",
      "metadata": {
        "id": "qPJsGENu0pPQ",
        "colab_type": "code",
        "colab": {}
      },
      "source": [
        "#seaborn.distplot will allow you easily fit a normal distrubution to each histogram plot and make visualisations easier \n",
        "rows=7\n",
        "cols=2\n",
        "fig, ax=plt.subplots (nrows=rows, ncols=cols, figsize=(16,16))\n",
        "col=df.columns\n",
        "index=0\n",
        "\n",
        "for i in range(rows):\n",
        "  for j in range(cols):\n",
        "    sns.distplot(df[col[index]], ax=ax[i][j])\n",
        "    index=index+1\n",
        "plt.tight_layout()\n"
      ],
      "execution_count": null,
      "outputs": []
    },
    {
      "cell_type": "code",
      "metadata": {
        "id": "p20JwRLt1Hob",
        "colab_type": "code",
        "colab": {}
      },
      "source": [
        "#\n",
        "fig, ax=plt.subplots(figsize=(16,9))\n",
        "sns.heatmap(df.corr(), annot=True, annot_kws={'size':12})"
      ],
      "execution_count": null,
      "outputs": []
    },
    {
      "cell_type": "code",
      "metadata": {
        "id": "xtMnHs411M6i",
        "colab_type": "code",
        "colab": {}
      },
      "source": [
        "#For a linear regression model, we need high correlations. in that case, we need to define a threshold filter\n",
        "#To obtain a lindear regression \n",
        "def getCorrelatedFeature(corrdata, threshold):\n",
        "  feature=[]\n",
        "  value=[]\n",
        "\n",
        "  for i, index in enumerate(corrdata.index):\n",
        "    if abs(corrdata[index])>threshold:\n",
        "      feature.append(index)\n",
        "      value.append(corrdata[index])\n",
        "\n",
        "  df=pd.DataFrame(data=value, index=feature, columns=['Corr Value'])\n",
        "  return df\n"
      ],
      "execution_count": 48,
      "outputs": []
    },
    {
      "cell_type": "markdown",
      "metadata": {
        "id": "uEN7qgYyHSxX",
        "colab_type": "text"
      },
      "source": [
        "Checking the correlations of and summarizing the relationships between the variables. A correlation factor near 1 or -1 is wanted. 0 means that there is no linearrelation between that columns and they will sabotage the linear regression model"
      ]
    },
    {
      "cell_type": "code",
      "metadata": {
        "id": "rVpT_cwz1rrU",
        "colab_type": "code",
        "colab": {}
      },
      "source": [
        "#Looking for magnitudes of correlation data that has magnitude greater than 0.4\n",
        "threshold=0.4\n",
        "#appending and updating the index column in corr_value\n",
        "corr_value=getCorrelatedFeature(df.corr()['MEDV'], threshold)"
      ],
      "execution_count": 49,
      "outputs": []
    },
    {
      "cell_type": "code",
      "metadata": {
        "id": "mAHG2Sv31wts",
        "colab_type": "code",
        "colab": {}
      },
      "source": [
        "#Gets the actual value at a specified index \n",
        "corr_value.index.values\n"
      ],
      "execution_count": null,
      "outputs": []
    },
    {
      "cell_type": "code",
      "metadata": {
        "id": "Bjgvr2rx10jn",
        "colab_type": "code",
        "colab": {}
      },
      "source": [
        "#These outputs affect the proces according to the threshold given \n",
        "#Storing the indexes of the correlation values\n",
        "correlated_data=df[corr_value.index]\n",
        "#Display dataframe correlated_data \n",
        "correlated_data.head()"
      ],
      "execution_count": null,
      "outputs": []
    },
    {
      "cell_type": "markdown",
      "metadata": {
        "id": "-5sZ-SU9HmjG",
        "colab_type": "text"
      },
      "source": [
        "Train/Test Split involves splitting the dataset into training and testing sets respectively, which are mutually exclusive. After which, you train with the training set and test with the testing set. This will provide a more accurate evaluation on out-of-sample accuracy because the testing dataset is not part of the dataset that have been used to train the data. It is more realistic for real world problems.\n",
        "\n",
        "This means that we know the outcome of each data point in this dataset, making it great to test with! And since this data has not been used to train the model, the model has no knowledge of the outcome of these data points. So, in essence, it’s truly an out-of-sample testing."
      ]
    },
    {
      "cell_type": "code",
      "metadata": {
        "id": "vGE-q7QR1_Jh",
        "colab_type": "code",
        "colab": {}
      },
      "source": [
        "X=correlated_data.drop(labels=['MEDV'], axis=1)\n",
        "y=correlated_data['MEDV']"
      ],
      "execution_count": 52,
      "outputs": []
    },
    {
      "cell_type": "code",
      "metadata": {
        "id": "ai4S7owXGKlK",
        "colab_type": "code",
        "colab": {}
      },
      "source": [
        ""
      ],
      "execution_count": null,
      "outputs": []
    },
    {
      "cell_type": "code",
      "metadata": {
        "id": "FywIAkkZ2CRq",
        "colab_type": "code",
        "colab": {}
      },
      "source": [
        "from sklearn.model_selection import train_test_split\n",
        "#This means we are training the model with 67% of the dataset and the test model represents 33%\n",
        "X_train, X_test, y_train, y_test=train_test_split(X, y, test_size=0.33,random_state=1) \n"
      ],
      "execution_count": 53,
      "outputs": []
    },
    {
      "cell_type": "code",
      "metadata": {
        "id": "j79q_7GG2NJ-",
        "colab_type": "code",
        "colab": {}
      },
      "source": [
        "from sklearn.linear_model import LinearRegression\n",
        "lm=LinearRegression()"
      ],
      "execution_count": 54,
      "outputs": []
    },
    {
      "cell_type": "code",
      "metadata": {
        "id": "adCn2rnW2Szr",
        "colab_type": "code",
        "colab": {}
      },
      "source": [
        "lm.fit(X_train,y_train)"
      ],
      "execution_count": null,
      "outputs": []
    },
    {
      "cell_type": "code",
      "metadata": {
        "id": "5i6njbuG2X9R",
        "colab_type": "code",
        "colab": {}
      },
      "source": [
        "predictions=lm.predict(X_test)\n",
        "plt.scatter(y_test,predictions)"
      ],
      "execution_count": null,
      "outputs": []
    },
    {
      "cell_type": "code",
      "metadata": {
        "id": "p3hVzxrH2dfH",
        "colab_type": "code",
        "colab": {}
      },
      "source": [
        "sns.distplot((y_test-predictions),bins=50)"
      ],
      "execution_count": null,
      "outputs": []
    },
    {
      "cell_type": "code",
      "metadata": {
        "id": "FkVlBAPk2gl7",
        "colab_type": "code",
        "colab": {}
      },
      "source": [
        "lm.intercept_\n"
      ],
      "execution_count": null,
      "outputs": []
    },
    {
      "cell_type": "code",
      "metadata": {
        "id": "KWU2sVRi2j2d",
        "colab_type": "code",
        "colab": {}
      },
      "source": [
        "lm.coef_"
      ],
      "execution_count": null,
      "outputs": []
    },
    {
      "cell_type": "markdown",
      "metadata": {
        "id": "ZqFfyjapHwLl",
        "colab_type": "text"
      },
      "source": [
        "Coefficient and Intercept are the parameters of the fit line. Given that it is a multiple linear regression and knowing that the parameters are the intercept and coefficients of hyperplane, sklearn can estimate them from our data. Scikit-learn uses plain Ordinary Least Squares method to solve this problem.\n",
        "\n",
        "Ordinary Least Squares (OLS)\n",
        "OLS is a method for estimating the unknown parameters in a linear regression model. OLS chooses the parameters of a linear function of a set of explanatory variables by minimizing the sum of the squares of the differences between the target dependent variable and those predicted by the linear function. In other words, it tries to minimizes the sum of squared errors (SSE) or mean squared error (MSE) between the target variable (y) and our predicted output ( ℎ𝑎𝑡𝑦 ) over all samples in the dataset.\n",
        "\n",
        "OLS can find the best parameters using of the following methods:"
      ]
    },
    {
      "cell_type": "code",
      "metadata": {
        "id": "qO_RPp7P2sJD",
        "colab_type": "code",
        "colab": {}
      },
      "source": [
        "def lin_func(values, coefficients=lm.coef_, y_axis=lm.intercept_):\n",
        "  return np.dot(values, coefficients)+y_axis"
      ],
      "execution_count": 60,
      "outputs": []
    },
    {
      "cell_type": "code",
      "metadata": {
        "id": "k1W1zBpR21lX",
        "colab_type": "code",
        "colab": {}
      },
      "source": [
        "from random import randint\n",
        "for i in range(5):\n",
        "  index=randint(0,len(df)-1)\n",
        "  sample=df.iloc[index][corr_value.index.values].drop('MEDV')\n",
        "\n",
        "  print('PREDICTION:',round(lin_func(sample),2),\n",
        "        '// REAL:',df.iloc[index]['MEDV'],\n",
        "        '// DIFFERENCE:',round(round(lin_func(sample),2)-df.iloc[index]['MEDV'],2)\n",
        "        )"
      ],
      "execution_count": null,
      "outputs": []
    }
  ]
}